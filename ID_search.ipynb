{
 "cells": [
  {
   "cell_type": "code",
   "execution_count": 6,
   "id": "92a61faf",
   "metadata": {},
   "outputs": [],
   "source": [
    "import os\n",
    "import pandas as pd\n",
    "import numpy as np\n",
    "import os"
   ]
  },
  {
   "cell_type": "code",
   "execution_count": 4,
   "id": "9cc704d8",
   "metadata": {},
   "outputs": [],
   "source": [
    "filename = 'C:\\Users\\jungw\\ExceltoPython\\Beginner\\Table'\n",
    "save_path = r'C:\\Users\\jungw\\ExceltoPython\\Beginner\\Table\\result.xlsx'"
   ]
  },
  {
   "cell_type": "code",
   "execution_count": 5,
   "id": "15d1df12",
   "metadata": {},
   "outputs": [
    {
     "ename": "NameError",
     "evalue": "name 'glob' is not defined",
     "output_type": "error",
     "traceback": [
      "\u001b[1;31m---------------------------------------------------------------------------\u001b[0m",
      "\u001b[1;31mNameError\u001b[0m                                 Traceback (most recent call last)",
      "Input \u001b[1;32mIn [5]\u001b[0m, in \u001b[0;36m<cell line: 2>\u001b[1;34m()\u001b[0m\n\u001b[0;32m      1\u001b[0m result_out \u001b[38;5;241m=\u001b[39m {}\n\u001b[0;32m      2\u001b[0m \u001b[38;5;28;01mfor\u001b[39;00m episode, path \u001b[38;5;129;01min\u001b[39;00m file_path\u001b[38;5;241m.\u001b[39mitems():\n\u001b[1;32m----> 3\u001b[0m     file_list \u001b[38;5;241m=\u001b[39m \u001b[43mglob\u001b[49m\u001b[38;5;241m.\u001b[39mglob(os\u001b[38;5;241m.\u001b[39mpath\u001b[38;5;241m.\u001b[39mjoin(path, \u001b[38;5;124m'\u001b[39m\u001b[38;5;124m*breakdown*\u001b[39m\u001b[38;5;124m'\u001b[39m))\n\u001b[0;32m      4\u001b[0m     version_list \u001b[38;5;241m=\u001b[39m []\n\u001b[0;32m      5\u001b[0m     \u001b[38;5;28;01mfor\u001b[39;00m file \u001b[38;5;129;01min\u001b[39;00m file_list:\n",
      "\u001b[1;31mNameError\u001b[0m: name 'glob' is not defined"
     ]
    }
   ],
   "source": [
    "result_out = {}\n",
    "for episode, path in file_path.items():\n",
    "    file_list = glob.glob(os.path.join(path, '*breakdown*'))\n",
    "    version_list = []\n",
    "    for file in file_list:\n",
    "        parse = file.split('_')\n",
    "        num = parse[-1][1:4]\n",
    "        version_list.append(int(num))\n",
    "    max_num = max(version_list)\n",
    "    index_num = version_list.index(max_num)\n",
    "\n",
    "    target_file = file_list[index_num]\n",
    "    target_word = re.compile('outstanding', re.IGNORECASE)\n",
    "    df = pd.read_excel(target_file)\n",
    "    target_colums = df.iloc[:, 5].str.count(target_word)\n",
    "    missing_count = int(target_colums.sum())\n",
    "    result_out[episode] = [missing_count]\n",
    "    \n",
    "df = pd.DataFrame(data=result_out)\n",
    "print(df)\n",
    "df.to_excel(save_path, index=False)"
   ]
  },
  {
   "cell_type": "code",
   "execution_count": null,
   "id": "9e896800",
   "metadata": {},
   "outputs": [],
   "source": []
  }
 ],
 "metadata": {
  "kernelspec": {
   "display_name": "Python 3 (ipykernel)",
   "language": "python",
   "name": "python3"
  },
  "language_info": {
   "codemirror_mode": {
    "name": "ipython",
    "version": 3
   },
   "file_extension": ".py",
   "mimetype": "text/x-python",
   "name": "python",
   "nbconvert_exporter": "python",
   "pygments_lexer": "ipython3",
   "version": "3.9.12"
  }
 },
 "nbformat": 4,
 "nbformat_minor": 5
}
